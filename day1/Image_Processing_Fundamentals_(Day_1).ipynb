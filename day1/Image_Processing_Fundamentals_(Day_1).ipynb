{
  "nbformat": 4,
  "nbformat_minor": 0,
  "metadata": {
    "colab": {
      "provenance": []
    },
    "kernelspec": {
      "name": "python3",
      "display_name": "Python 3"
    },
    "language_info": {
      "name": "python"
    }
  },
  "cells": [
    {
      "cell_type": "markdown",
      "source": [
        "# 📷 What is a Digital Image?\n",
        "\n",
        "### 🔹 Pixels\n",
        "- A **pixel** (short for \"picture element\") is the smallest unit of a digital image.\n",
        "- Each pixel contains information about color or intensity.\n",
        "- In **grayscale images**, a pixel holds a single intensity value (0–255), where:\n",
        "  - `0 = black`, `255 = white`\n",
        "- In **color images**, a pixel is typically a triplet representing color channels (e.g., R, G, B).\n",
        "\n",
        "### 🔹 Channels\n",
        "- A **channel** is one layer of color information.\n",
        "- Common channel configurations:\n",
        "  - **Grayscale**: 1 channel (intensity only)\n",
        "  - **RGB**: 3 channels (Red, Green, Blue)\n",
        "  - **RGBA**: 4 channels (adds Alpha for transparency)"
      ],
      "metadata": {
        "id": "DERZ6QJIQSKb"
      }
    },
    {
      "cell_type": "markdown",
      "source": [
        "### 🔸 Code Example\n",
        "\n"
      ],
      "metadata": {
        "id": "KupfxUSlRUT7"
      }
    },
    {
      "cell_type": "code",
      "source": [
        "import cv2\n",
        "image = cv2.imread('dog.png')  # Load image in BGR format"
      ],
      "metadata": {
        "id": "UGNWBz34RXqe"
      },
      "execution_count": null,
      "outputs": []
    },
    {
      "cell_type": "code",
      "source": [
        "# display the image\n",
        "import matplotlib.pyplot as plt\n",
        "def display_image(image, gray=False):\n",
        "    if gray:\n",
        "        plt.imshow(image, cmap='gray')\n",
        "    else:\n",
        "        plt.imshow(image)\n",
        "    plt.axis('off')\n",
        "    plt.show()\n",
        "\n",
        "display_image(image)"
      ],
      "metadata": {
        "id": "yUl6z8S-U0YQ"
      },
      "execution_count": null,
      "outputs": []
    },
    {
      "cell_type": "markdown",
      "source": [
        "## 🧩 Image Shapes: `height × width × channels`\n",
        "\n",
        "- Images are stored as **arrays** in the form:\n",
        "  - Color image: `(Height, Width, 3)`\n",
        "  - Grayscale image: `(Height, Width)`\n",
        "\n",
        "- Examples:\n",
        "  - RGB image of 640×480: `image.shape = (480, 640, 3)`\n",
        "  - Grayscale 300×300: `image.shape = (300, 300)`\n",
        "\n",
        "### 🔸 Key Points\n",
        "\n",
        "- **Height**: Number of pixel rows (vertical size)\n",
        "- **Width**: Number of pixel columns (horizontal size)\n",
        "- **Channels**: 1 (grayscale), 3 (RGB/BGR), 4 (RGBA)\n"
      ],
      "metadata": {
        "id": "nX0K76GwRiWm"
      }
    },
    {
      "cell_type": "markdown",
      "source": [
        "### 🔸 Code Example\n"
      ],
      "metadata": {
        "id": "IwjNIqp_R4_V"
      }
    },
    {
      "cell_type": "code",
      "source": [
        "image"
      ],
      "metadata": {
        "id": "zxO0vCvTuqTD"
      },
      "execution_count": null,
      "outputs": []
    },
    {
      "cell_type": "code",
      "source": [
        "print(image.shape)  # Output: (height, width, channels)\n",
        "\n",
        "gray = cv2.cvtColor(image, cv2.COLOR_BGR2GRAY)\n",
        "print(gray.shape)  # Output: (height, width)\n"
      ],
      "metadata": {
        "id": "8RufXAMMR5zb"
      },
      "execution_count": null,
      "outputs": []
    },
    {
      "cell_type": "code",
      "source": [
        "display_image(gray)"
      ],
      "metadata": {
        "id": "-pHKRorMV7gr"
      },
      "execution_count": null,
      "outputs": []
    },
    {
      "cell_type": "markdown",
      "source": [
        "### Note:\n",
        "\n",
        "When you convert an image to grayscale with OpenCV:\n",
        "\n",
        "```python\n",
        "gray = cv2.cvtColor(image, cv2.COLOR_BGR2GRAY)\n",
        "```\n",
        "\n",
        "You get a 2D array of intensity values (shape: [H, W]), where each pixel is a single number between 0 (black) and 255 (white).\n",
        "\n",
        "However, when you display this grayscale image using matplotlib.pyplot.imshow() without specifying a colormap, matplotlib automatically applies a default color map — usually 'viridis', which results in the greenish/purplish color you see.\n",
        "\n",
        "🎨 How to display it as true black-and-white:\n",
        "Use the 'gray' colormap explicitly:\n",
        "\n",
        "```python\n",
        "import matplotlib.pyplot as plt\n",
        "\n",
        "plt.imshow(gray, cmap='gray')\n",
        "plt.axis('off')\n",
        "plt.show()\n",
        "```\n",
        "\n"
      ],
      "metadata": {
        "id": "YkWNcDk1YIXu"
      }
    },
    {
      "cell_type": "code",
      "source": [
        "display_image(gray, True)"
      ],
      "metadata": {
        "id": "PEYthbn2X853"
      },
      "execution_count": null,
      "outputs": []
    },
    {
      "cell_type": "markdown",
      "source": [
        "## 🌈 Color Spaces\n",
        "\n",
        "Color spaces define how color is interpreted and manipulated in an image.\n",
        "\n",
        "### 🔹 RGB vs BGR\n",
        "\n",
        "- **RGB**: Common in most libraries (e.g., PIL, matplotlib)\n",
        "- **BGR**: Default format in OpenCV  \n",
        "  - Important: `cv2.imread()` returns BGR by default  \n",
        "  - Displaying a BGR image using matplotlib (which expects RGB) may result in color distortion.\n",
        "\n",
        "### 🔹 Grayscale\n",
        "\n",
        "- Converts RGB to a single channel using weighted brightness:  \n",
        "  `Y = 0.299R + 0.587G + 0.114B`\n",
        "\n",
        "### 🔹 HSV (Hue, Saturation, Value)\n",
        "\n",
        "- A more perceptual color model:\n",
        "  - **Hue**: Base color (0–179 in OpenCV)\n",
        "  - **Saturation**: Color intensity (0–255)\n",
        "  - **Value**: Brightness (0–255)\n",
        "- Useful for color filtering and segmentation.\n"
      ],
      "metadata": {
        "id": "c3OlXqMFSKQ1"
      }
    },
    {
      "cell_type": "markdown",
      "source": [
        "### 🔸 Code Example\n"
      ],
      "metadata": {
        "id": "ShFYYcs7SWTA"
      }
    },
    {
      "cell_type": "code",
      "source": [
        "rgb_image = cv2.cvtColor(image, cv2.COLOR_BGR2RGB)\n",
        "display_image(rgb_image)"
      ],
      "metadata": {
        "id": "pcrPnPStSZQH"
      },
      "execution_count": null,
      "outputs": []
    },
    {
      "cell_type": "code",
      "source": [
        "hsv_image = cv2.cvtColor(image, cv2.COLOR_BGR2HSV)\n",
        "display_image(hsv_image)\n"
      ],
      "metadata": {
        "id": "1FObmeRCWlwY"
      },
      "execution_count": null,
      "outputs": []
    },
    {
      "cell_type": "code",
      "source": [
        "gray_image = cv2.cvtColor(image, cv2.COLOR_BGR2GRAY)\n",
        "display_image(gray_image, True)\n"
      ],
      "metadata": {
        "id": "fOaTq1_IWqWr"
      },
      "execution_count": null,
      "outputs": []
    },
    {
      "cell_type": "markdown",
      "source": [
        "## 🖼️ Image Resolution and Bit Depth\n",
        "\n",
        "### 🔹 Image Resolution\n",
        "\n",
        "- **Resolution** = number of pixels in width × height\n",
        "- Higher resolution = more image detail, larger file size\n",
        "- Example: `1920 × 1080` = Full HD image\n",
        "\n",
        "### 🔹 Bit Depth\n",
        "\n",
        "- Defines how many bits represent each channel:\n",
        "  - **8-bit**: values from 0–255 (standard)\n",
        "  - **16-bit**: values from 0–65535 (used in scientific imaging)\n",
        "  - **1-bit**: black & white only (0 or 1)\n",
        "\n",
        "- For RGB:\n",
        "  - 8 bits per channel → 24 bits/pixel → ~16.7 million colors\n"
      ],
      "metadata": {
        "id": "q8OCPcWOrPNZ"
      }
    },
    {
      "cell_type": "markdown",
      "source": [
        "🔸 Inspecting Bit Depth"
      ],
      "metadata": {
        "id": "4eD61G9prXX_"
      }
    },
    {
      "cell_type": "code",
      "source": [
        "print(image.dtype)  # Typically: uint8 for 8-bit images"
      ],
      "metadata": {
        "id": "T4s0geJIrTSf"
      },
      "execution_count": null,
      "outputs": []
    },
    {
      "cell_type": "markdown",
      "source": [
        "\n",
        "## 🧪 Basic Image Operations\n",
        "\n",
        "These operations are useful for creating, editing, and manipulating image content using NumPy arrays and OpenCV functions.\n",
        "\n",
        "---\n",
        "\n",
        "### How to Create New Images?\n",
        "\n",
        "You can create empty (black or white) or patterned images using NumPy:\n",
        "\n"
      ],
      "metadata": {
        "id": "QtHb4-YgSgd7"
      }
    },
    {
      "cell_type": "code",
      "source": [
        "import numpy as np\n",
        "\n",
        "# Create a black image (all zeros)\n",
        "black = np.zeros((300, 300, 3), dtype='uint8')\n",
        "\n",
        "# Create a white image (all 255s)\n",
        "white = np.ones((300, 300, 3), dtype='uint8') * 255\n",
        "\n",
        "# Create a solid color image (e.g., red)\n",
        "red = np.zeros((300, 300, 3), dtype='uint8')\n",
        "red[:] = (0, 0, 255)  # BGR format"
      ],
      "metadata": {
        "id": "E0FcpaqUkUhp"
      },
      "execution_count": null,
      "outputs": []
    },
    {
      "cell_type": "code",
      "source": [
        "# Convert BGR to RGB for display\n",
        "white_rgb = cv2.cvtColor(white, cv2.COLOR_BGR2RGB)\n",
        "red_rgb = cv2.cvtColor(red, cv2.COLOR_BGR2RGB)\n",
        "\n",
        "# Display both\n",
        "plt.subplot(1, 2, 1)\n",
        "plt.imshow(white_rgb)\n",
        "plt.title(\"White\")\n",
        "plt.axis('off')\n",
        "\n",
        "plt.subplot(1, 2, 2)\n",
        "plt.imshow(red_rgb)\n",
        "plt.title(\"Red\")\n",
        "plt.axis('off')\n",
        "\n",
        "plt.tight_layout()\n",
        "plt.show()"
      ],
      "metadata": {
        "id": "dvJvuVz0kxwU"
      },
      "execution_count": null,
      "outputs": []
    },
    {
      "cell_type": "markdown",
      "source": [
        "### Cropping an image\n",
        "Use NumPy slicing to crop a region of interest (ROI) or bounding box.\n",
        "\n"
      ],
      "metadata": {
        "id": "8VxzWq9NlUm7"
      }
    },
    {
      "cell_type": "code",
      "source": [
        "cropped = rgb_image[400:800, 550:800]  # y1:y2, x1:x2\n"
      ],
      "metadata": {
        "id": "hnx3ap5TlaBC"
      },
      "execution_count": null,
      "outputs": []
    },
    {
      "cell_type": "code",
      "source": [
        "plt.imshow(cropped)\n",
        "plt.title(\"Cropped Image\")\n",
        "plt.axis('off')\n",
        "plt.show()\n"
      ],
      "metadata": {
        "id": "DAhP6pA3k7Xx"
      },
      "execution_count": null,
      "outputs": []
    },
    {
      "cell_type": "markdown",
      "source": [
        "### Copying a Region to Another in an Image"
      ],
      "metadata": {
        "id": "wxBMpp2nlzp9"
      }
    },
    {
      "cell_type": "code",
      "source": [
        "roi = rgb_image[400:600, 350:550]\n",
        "display_image(roi)"
      ],
      "metadata": {
        "id": "uYaABKUily26"
      },
      "execution_count": null,
      "outputs": []
    },
    {
      "cell_type": "code",
      "source": [
        "rgb_image[0:200, 0:200] = roi  # Paste ROI to top-left\n",
        "\n",
        "display_image(rgb_image)"
      ],
      "metadata": {
        "id": "nHTK_xPUmE3A"
      },
      "execution_count": null,
      "outputs": []
    },
    {
      "cell_type": "markdown",
      "source": [
        "### Resizing an Image.\n",
        "Use OpenCV's resize() function\n"
      ],
      "metadata": {
        "id": "0NXzInZDnjz6"
      }
    },
    {
      "cell_type": "code",
      "source": [
        "resized = cv2.resize(rgb_image, (200, 200))  # Resize to 200x200\n",
        "resized_half = cv2.resize(rgb_image, (0, 0), fx=0.5, fy=0.5)  # Half size\n",
        "\n",
        "resized.shape"
      ],
      "metadata": {
        "id": "8Grxe71znMT6"
      },
      "execution_count": null,
      "outputs": []
    },
    {
      "cell_type": "code",
      "source": [
        "resized_half.shape"
      ],
      "metadata": {
        "id": "CwYIVddhoB_G"
      },
      "execution_count": null,
      "outputs": []
    },
    {
      "cell_type": "markdown",
      "source": [
        "### Creating an Image Mask\n",
        "\n",
        "Masks are single-channel binary images used to isolate regions."
      ],
      "metadata": {
        "id": "vbsnv8dDoafQ"
      }
    },
    {
      "cell_type": "code",
      "source": [
        "mask = np.zeros(rgb_image.shape[:2], dtype='uint8')\n",
        "cv2.rectangle(mask, (50, 50), (200, 200), 255, -1)\n",
        "\n",
        "# Apply mask\n",
        "masked_image = cv2.bitwise_and(rgb_image, rgb_image, mask=mask)\n"
      ],
      "metadata": {
        "id": "Qr3VeIgRogOO"
      },
      "execution_count": null,
      "outputs": []
    },
    {
      "cell_type": "code",
      "source": [
        "display_image(masked_image)"
      ],
      "metadata": {
        "id": "BXmIO1l0orWn"
      },
      "execution_count": null,
      "outputs": []
    },
    {
      "cell_type": "markdown",
      "source": [
        "### 🔢 Mathematical Operations on Images\n",
        "\n",
        "### 1. Datatype Conversion.\n",
        "\n",
        "You often need to convert between uint8, float32, or uint16"
      ],
      "metadata": {
        "id": "m3-w_rN0pCpO"
      }
    },
    {
      "cell_type": "code",
      "source": [
        "image_float = rgb_image.astype('float32') / 255.0  # Normalize to [0, 1]\n",
        "image_uint8 = (image_float * 255).astype('uint16')\n",
        "\n",
        "display_image(image_uint8)"
      ],
      "metadata": {
        "id": "jpN7akdvo4Gl"
      },
      "execution_count": null,
      "outputs": []
    },
    {
      "cell_type": "markdown",
      "source": [
        "### 2. Contrast Enhancement\n",
        "\n",
        "Apply histogram equalization (for grayscale)"
      ],
      "metadata": {
        "id": "5wMyanqMpwHm"
      }
    },
    {
      "cell_type": "code",
      "source": [
        "gray = cv2.cvtColor(image, cv2.COLOR_BGR2GRAY)\n",
        "equalized = cv2.equalizeHist(gray)\n",
        "\n",
        "display_image(equalized)"
      ],
      "metadata": {
        "id": "fmnhTtW_p1PG"
      },
      "execution_count": null,
      "outputs": []
    },
    {
      "cell_type": "markdown",
      "source": [
        "### For color images (apply to Y channel of YCrCb):"
      ],
      "metadata": {
        "id": "8EBztKlkqBM_"
      }
    },
    {
      "cell_type": "code",
      "source": [
        "ycrcb = cv2.cvtColor(rgb_image, cv2.COLOR_BGR2YCrCb)\n",
        "ycrcb[:, :, 0] = cv2.equalizeHist(ycrcb[:, :, 0])\n",
        "contrast_enhanced = cv2.cvtColor(ycrcb, cv2.COLOR_YCrCb2BGR)\n",
        "\n",
        "display_image(contrast_enhanced)"
      ],
      "metadata": {
        "id": "swDnox6QqDf1"
      },
      "execution_count": null,
      "outputs": []
    },
    {
      "cell_type": "markdown",
      "source": [
        "### 3. Brightness Enhancement\n",
        "\n",
        "You can adjust brightness by adding or subtracting pixel values:"
      ],
      "metadata": {
        "id": "iBKbnHjmqV7n"
      }
    },
    {
      "cell_type": "code",
      "source": [
        "brighter = cv2.add(rgb_image, 50)    # Increase brightness\n",
        "darker = cv2.subtract(rgb_image, 50) # Decrease brightness\n"
      ],
      "metadata": {
        "id": "006ZXlODqdG9"
      },
      "execution_count": null,
      "outputs": []
    },
    {
      "cell_type": "code",
      "source": [
        "display_image(brighter)"
      ],
      "metadata": {
        "id": "tBd9v6PMqhO_"
      },
      "execution_count": null,
      "outputs": []
    },
    {
      "cell_type": "code",
      "source": [
        "display_image(darker)"
      ],
      "metadata": {
        "id": "jtNKjVFmqlN2"
      },
      "execution_count": null,
      "outputs": []
    },
    {
      "cell_type": "markdown",
      "source": [
        "### Loading and Saving an Image\n",
        "\n",
        "## 📂 Loading and Saving Images in OpenCV\n",
        "\n",
        "OpenCV provides simple functions for reading from and writing to image files.\n",
        "\n",
        "---\n",
        "\n",
        "### ✅ 1. Loading an Image\n",
        "\n",
        "Use `cv2.imread()` to load an image from disk:\n",
        "\n",
        "```python\n",
        "import cv2\n",
        "\n",
        "# Load an image in color (default)\n",
        "image = cv2.imread(\"cat.jpg\")\n",
        "\n",
        "# Load as grayscale\n",
        "gray = cv2.imread(\"cat.jpg\", cv2.IMREAD_GRAYSCALE)\n",
        "```\n"
      ],
      "metadata": {
        "id": "XW1JH-g5rqdz"
      }
    },
    {
      "cell_type": "markdown",
      "source": [
        "###  Saving an Image\n",
        "\n",
        "Use cv2.imwrite() to write an image to file.  \n",
        "Note that if an image is RGB format, Convert it back to BGR before saving:\n"
      ],
      "metadata": {
        "id": "yje7yygGs_Y3"
      }
    },
    {
      "cell_type": "code",
      "source": [
        "bgr_darker = cv2.cvtColor(darker, cv2.COLOR_RGB2BGR)\n",
        "cv2.imwrite(\"output.jpg\", bgr_darker)\n"
      ],
      "metadata": {
        "id": "-Dk5mdW5rtiL"
      },
      "execution_count": null,
      "outputs": []
    }
  ]
}